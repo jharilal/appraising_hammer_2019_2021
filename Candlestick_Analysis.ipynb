{
  "nbformat": 4,
  "nbformat_minor": 0,
  "metadata": {
    "colab": {
      "name": "Candlestick Analysis",
      "provenance": [],
      "authorship_tag": "ABX9TyOD2FrV2WxEwO5zUV+Jn3kt",
      "include_colab_link": true
    },
    "kernelspec": {
      "name": "python3",
      "display_name": "Python 3"
    },
    "language_info": {
      "name": "python"
    }
  },
  "cells": [
    {
      "cell_type": "markdown",
      "metadata": {
        "id": "view-in-github",
        "colab_type": "text"
      },
      "source": [
        "<a href=\"https://colab.research.google.com/github/jharilal/candlestick_analysis/blob/main/Candlestick_Analysis.ipynb\" target=\"_parent\"><img src=\"https://colab.research.google.com/assets/colab-badge.svg\" alt=\"Open In Colab\"/></a>"
      ]
    },
    {
      "cell_type": "markdown",
      "source": [
        "#Candlestick Indicator Analysis\n",
        "\n"
      ],
      "metadata": {
        "id": "kg6hImPlN6sf"
      }
    },
    {
      "cell_type": "markdown",
      "source": [
        "## Outline\n",
        "\n"
      ],
      "metadata": {
        "id": "4TV5F5eAO9rx"
      }
    },
    {
      "cell_type": "markdown",
      "source": [
        "1. Problem Questions\n",
        "2. Project Installs\n",
        "3. Data Collection\n",
        "4. Data Preparation\n",
        "5. Data Analysis\n",
        "6. Report"
      ],
      "metadata": {
        "id": "hmlD5HtyPMbf"
      }
    },
    {
      "cell_type": "markdown",
      "source": [
        "## Problem Questions"
      ],
      "metadata": {
        "id": "3q4n7HR9OAKk"
      }
    },
    {
      "cell_type": "markdown",
      "source": [
        " - How accurate are technical indicators in predicting stock price movement for the top 100 / 500 companies over the past 5 years?\n",
        " - Does the industry / sub industry demonstrate a different amount of success with indicators?\n",
        " - Analyze the popular, single candle-stick indicators - Hammer /  Long Legged Doji / Shooting Star / Hangman / Gravestone / Dragonfly\n",
        " - Build this in a way such that it's possible to expand on the technical indicator of analysis\n",
        " - How often do these indicators occur?\n",
        "\n",
        " These questions help answer the measurable reliability of using these indicators to influence trading decisions.\n"
      ],
      "metadata": {
        "id": "M2V1K9Kg-R5a"
      }
    },
    {
      "cell_type": "markdown",
      "source": [
        "## Project Installs"
      ],
      "metadata": {
        "id": "zIdWvMbWOGak"
      }
    },
    {
      "cell_type": "code",
      "execution_count": 1,
      "metadata": {
        "id": "i_hF2dn4xjk5",
        "colab": {
          "base_uri": "https://localhost:8080/"
        },
        "outputId": "af615d21-e873-42c7-8f89-cfc2fa007eee"
      },
      "outputs": [
        {
          "output_type": "stream",
          "name": "stdout",
          "text": [
            "Collecting yahoofinance\n",
            "  Downloading yahoofinance-0.0.2-py3-none-any.whl (18 kB)\n",
            "Requirement already satisfied: pandas>=0.23.4 in /usr/local/lib/python3.7/dist-packages (from yahoofinance) (1.3.5)\n",
            "Requirement already satisfied: beautifulsoup4>=4.6.3 in /usr/local/lib/python3.7/dist-packages (from yahoofinance) (4.6.3)\n",
            "Requirement already satisfied: requests>=2.20.1 in /usr/local/lib/python3.7/dist-packages (from yahoofinance) (2.23.0)\n",
            "Requirement already satisfied: numpy>=1.17.3 in /usr/local/lib/python3.7/dist-packages (from pandas>=0.23.4->yahoofinance) (1.19.5)\n",
            "Requirement already satisfied: pytz>=2017.3 in /usr/local/lib/python3.7/dist-packages (from pandas>=0.23.4->yahoofinance) (2018.9)\n",
            "Requirement already satisfied: python-dateutil>=2.7.3 in /usr/local/lib/python3.7/dist-packages (from pandas>=0.23.4->yahoofinance) (2.8.2)\n",
            "Requirement already satisfied: six>=1.5 in /usr/local/lib/python3.7/dist-packages (from python-dateutil>=2.7.3->pandas>=0.23.4->yahoofinance) (1.15.0)\n",
            "Requirement already satisfied: idna<3,>=2.5 in /usr/local/lib/python3.7/dist-packages (from requests>=2.20.1->yahoofinance) (2.10)\n",
            "Requirement already satisfied: urllib3!=1.25.0,!=1.25.1,<1.26,>=1.21.1 in /usr/local/lib/python3.7/dist-packages (from requests>=2.20.1->yahoofinance) (1.24.3)\n",
            "Requirement already satisfied: certifi>=2017.4.17 in /usr/local/lib/python3.7/dist-packages (from requests>=2.20.1->yahoofinance) (2021.10.8)\n",
            "Requirement already satisfied: chardet<4,>=3.0.2 in /usr/local/lib/python3.7/dist-packages (from requests>=2.20.1->yahoofinance) (3.0.4)\n",
            "Installing collected packages: yahoofinance\n",
            "Successfully installed yahoofinance-0.0.2\n",
            "Collecting yfinance\n",
            "  Downloading yfinance-0.1.70-py2.py3-none-any.whl (26 kB)\n",
            "Collecting lxml>=4.5.1\n",
            "  Downloading lxml-4.7.1-cp37-cp37m-manylinux_2_17_x86_64.manylinux2014_x86_64.manylinux_2_24_x86_64.whl (6.4 MB)\n",
            "\u001b[K     |████████████████████████████████| 6.4 MB 6.6 MB/s \n",
            "\u001b[?25hRequirement already satisfied: multitasking>=0.0.7 in /usr/local/lib/python3.7/dist-packages (from yfinance) (0.0.10)\n",
            "Requirement already satisfied: pandas>=0.24.0 in /usr/local/lib/python3.7/dist-packages (from yfinance) (1.3.5)\n",
            "Collecting requests>=2.26\n",
            "  Downloading requests-2.27.1-py2.py3-none-any.whl (63 kB)\n",
            "\u001b[K     |████████████████████████████████| 63 kB 1.4 MB/s \n",
            "\u001b[?25hRequirement already satisfied: numpy>=1.15 in /usr/local/lib/python3.7/dist-packages (from yfinance) (1.19.5)\n",
            "Requirement already satisfied: pytz>=2017.3 in /usr/local/lib/python3.7/dist-packages (from pandas>=0.24.0->yfinance) (2018.9)\n",
            "Requirement already satisfied: python-dateutil>=2.7.3 in /usr/local/lib/python3.7/dist-packages (from pandas>=0.24.0->yfinance) (2.8.2)\n",
            "Requirement already satisfied: six>=1.5 in /usr/local/lib/python3.7/dist-packages (from python-dateutil>=2.7.3->pandas>=0.24.0->yfinance) (1.15.0)\n",
            "Requirement already satisfied: charset-normalizer~=2.0.0 in /usr/local/lib/python3.7/dist-packages (from requests>=2.26->yfinance) (2.0.11)\n",
            "Requirement already satisfied: urllib3<1.27,>=1.21.1 in /usr/local/lib/python3.7/dist-packages (from requests>=2.26->yfinance) (1.24.3)\n",
            "Requirement already satisfied: idna<4,>=2.5 in /usr/local/lib/python3.7/dist-packages (from requests>=2.26->yfinance) (2.10)\n",
            "Requirement already satisfied: certifi>=2017.4.17 in /usr/local/lib/python3.7/dist-packages (from requests>=2.26->yfinance) (2021.10.8)\n",
            "Installing collected packages: requests, lxml, yfinance\n",
            "  Attempting uninstall: requests\n",
            "    Found existing installation: requests 2.23.0\n",
            "    Uninstalling requests-2.23.0:\n",
            "      Successfully uninstalled requests-2.23.0\n",
            "  Attempting uninstall: lxml\n",
            "    Found existing installation: lxml 4.2.6\n",
            "    Uninstalling lxml-4.2.6:\n",
            "      Successfully uninstalled lxml-4.2.6\n",
            "\u001b[31mERROR: pip's dependency resolver does not currently take into account all the packages that are installed. This behaviour is the source of the following dependency conflicts.\n",
            "google-colab 1.0.0 requires requests~=2.23.0, but you have requests 2.27.1 which is incompatible.\n",
            "datascience 0.10.6 requires folium==0.2.1, but you have folium 0.8.3 which is incompatible.\u001b[0m\n",
            "Successfully installed lxml-4.7.1 requests-2.27.1 yfinance-0.1.70\n"
          ]
        }
      ],
      "source": [
        "!pip install yahoofinance\n",
        "!pip install yfinance"
      ]
    },
    {
      "cell_type": "code",
      "source": [
        "import yfinance as yf\n",
        "import pandas as pd\n",
        "msft_tick = yf.download('MSFT')"
      ],
      "metadata": {
        "colab": {
          "base_uri": "https://localhost:8080/"
        },
        "id": "vzbKr_BVxo-w",
        "outputId": "92623391-2b8f-46b4-e0e3-3bf8913579a3"
      },
      "execution_count": 2,
      "outputs": [
        {
          "output_type": "stream",
          "name": "stdout",
          "text": [
            "\r[*********************100%***********************]  1 of 1 completed\n"
          ]
        }
      ]
    },
    {
      "cell_type": "markdown",
      "source": [
        "## Data Collection"
      ],
      "metadata": {
        "id": "UKIQR6RdOQw_"
      }
    },
    {
      "cell_type": "code",
      "source": [
        "nasdaq_df = pd.read_html('https://en.wikipedia.org/wiki/Nasdaq-100')"
      ],
      "metadata": {
        "id": "dWovoZLbx_ID"
      },
      "execution_count": 3,
      "outputs": []
    },
    {
      "cell_type": "code",
      "source": [
        "nasdaq_df[3]"
      ],
      "metadata": {
        "colab": {
          "base_uri": "https://localhost:8080/",
          "height": 424
        },
        "id": "VCnq4VO70HVw",
        "outputId": "075ead5f-1630-413b-9a7c-41ef07f234d5"
      },
      "execution_count": 4,
      "outputs": [
        {
          "output_type": "execute_result",
          "data": {
            "text/html": [
              "\n",
              "  <div id=\"df-a4b58012-b5e5-4036-91ef-eac87768ed4e\">\n",
              "    <div class=\"colab-df-container\">\n",
              "      <div>\n",
              "<style scoped>\n",
              "    .dataframe tbody tr th:only-of-type {\n",
              "        vertical-align: middle;\n",
              "    }\n",
              "\n",
              "    .dataframe tbody tr th {\n",
              "        vertical-align: top;\n",
              "    }\n",
              "\n",
              "    .dataframe thead th {\n",
              "        text-align: right;\n",
              "    }\n",
              "</style>\n",
              "<table border=\"1\" class=\"dataframe\">\n",
              "  <thead>\n",
              "    <tr style=\"text-align: right;\">\n",
              "      <th></th>\n",
              "      <th>Company</th>\n",
              "      <th>Ticker</th>\n",
              "      <th>GICS Sector</th>\n",
              "      <th>GICS Sub-Industry</th>\n",
              "    </tr>\n",
              "  </thead>\n",
              "  <tbody>\n",
              "    <tr>\n",
              "      <th>0</th>\n",
              "      <td>Activision Blizzard</td>\n",
              "      <td>ATVI</td>\n",
              "      <td>Communication Services</td>\n",
              "      <td>Interactive Home Entertainment</td>\n",
              "    </tr>\n",
              "    <tr>\n",
              "      <th>1</th>\n",
              "      <td>Adobe</td>\n",
              "      <td>ADBE</td>\n",
              "      <td>Information Technology</td>\n",
              "      <td>Application Software</td>\n",
              "    </tr>\n",
              "    <tr>\n",
              "      <th>2</th>\n",
              "      <td>ADP</td>\n",
              "      <td>ADP</td>\n",
              "      <td>Information Technology</td>\n",
              "      <td>Data Processing &amp; Outsourced Services</td>\n",
              "    </tr>\n",
              "    <tr>\n",
              "      <th>3</th>\n",
              "      <td>Airbnb</td>\n",
              "      <td>ABNB</td>\n",
              "      <td>Consumer Discretionary</td>\n",
              "      <td>Internet &amp; Direct Marketing Retail</td>\n",
              "    </tr>\n",
              "    <tr>\n",
              "      <th>4</th>\n",
              "      <td>Align</td>\n",
              "      <td>ALGN</td>\n",
              "      <td>Health Care</td>\n",
              "      <td>Health Care Supplies</td>\n",
              "    </tr>\n",
              "    <tr>\n",
              "      <th>...</th>\n",
              "      <td>...</td>\n",
              "      <td>...</td>\n",
              "      <td>...</td>\n",
              "      <td>...</td>\n",
              "    </tr>\n",
              "    <tr>\n",
              "      <th>97</th>\n",
              "      <td>Workday</td>\n",
              "      <td>WDAY</td>\n",
              "      <td>Information Technology</td>\n",
              "      <td>Application Software</td>\n",
              "    </tr>\n",
              "    <tr>\n",
              "      <th>98</th>\n",
              "      <td>Xcel Energy</td>\n",
              "      <td>XEL</td>\n",
              "      <td>Utilities</td>\n",
              "      <td>Multi-Utilities</td>\n",
              "    </tr>\n",
              "    <tr>\n",
              "      <th>99</th>\n",
              "      <td>Xilinx</td>\n",
              "      <td>XLNX</td>\n",
              "      <td>Information Technology</td>\n",
              "      <td>Semiconductors</td>\n",
              "    </tr>\n",
              "    <tr>\n",
              "      <th>100</th>\n",
              "      <td>Zoom</td>\n",
              "      <td>ZM</td>\n",
              "      <td>Information Technology</td>\n",
              "      <td>Application Software</td>\n",
              "    </tr>\n",
              "    <tr>\n",
              "      <th>101</th>\n",
              "      <td>Zscaler</td>\n",
              "      <td>ZS</td>\n",
              "      <td>Information Technology</td>\n",
              "      <td>Application Software</td>\n",
              "    </tr>\n",
              "  </tbody>\n",
              "</table>\n",
              "<p>102 rows × 4 columns</p>\n",
              "</div>\n",
              "      <button class=\"colab-df-convert\" onclick=\"convertToInteractive('df-a4b58012-b5e5-4036-91ef-eac87768ed4e')\"\n",
              "              title=\"Convert this dataframe to an interactive table.\"\n",
              "              style=\"display:none;\">\n",
              "        \n",
              "  <svg xmlns=\"http://www.w3.org/2000/svg\" height=\"24px\"viewBox=\"0 0 24 24\"\n",
              "       width=\"24px\">\n",
              "    <path d=\"M0 0h24v24H0V0z\" fill=\"none\"/>\n",
              "    <path d=\"M18.56 5.44l.94 2.06.94-2.06 2.06-.94-2.06-.94-.94-2.06-.94 2.06-2.06.94zm-11 1L8.5 8.5l.94-2.06 2.06-.94-2.06-.94L8.5 2.5l-.94 2.06-2.06.94zm10 10l.94 2.06.94-2.06 2.06-.94-2.06-.94-.94-2.06-.94 2.06-2.06.94z\"/><path d=\"M17.41 7.96l-1.37-1.37c-.4-.4-.92-.59-1.43-.59-.52 0-1.04.2-1.43.59L10.3 9.45l-7.72 7.72c-.78.78-.78 2.05 0 2.83L4 21.41c.39.39.9.59 1.41.59.51 0 1.02-.2 1.41-.59l7.78-7.78 2.81-2.81c.8-.78.8-2.07 0-2.86zM5.41 20L4 18.59l7.72-7.72 1.47 1.35L5.41 20z\"/>\n",
              "  </svg>\n",
              "      </button>\n",
              "      \n",
              "  <style>\n",
              "    .colab-df-container {\n",
              "      display:flex;\n",
              "      flex-wrap:wrap;\n",
              "      gap: 12px;\n",
              "    }\n",
              "\n",
              "    .colab-df-convert {\n",
              "      background-color: #E8F0FE;\n",
              "      border: none;\n",
              "      border-radius: 50%;\n",
              "      cursor: pointer;\n",
              "      display: none;\n",
              "      fill: #1967D2;\n",
              "      height: 32px;\n",
              "      padding: 0 0 0 0;\n",
              "      width: 32px;\n",
              "    }\n",
              "\n",
              "    .colab-df-convert:hover {\n",
              "      background-color: #E2EBFA;\n",
              "      box-shadow: 0px 1px 2px rgba(60, 64, 67, 0.3), 0px 1px 3px 1px rgba(60, 64, 67, 0.15);\n",
              "      fill: #174EA6;\n",
              "    }\n",
              "\n",
              "    [theme=dark] .colab-df-convert {\n",
              "      background-color: #3B4455;\n",
              "      fill: #D2E3FC;\n",
              "    }\n",
              "\n",
              "    [theme=dark] .colab-df-convert:hover {\n",
              "      background-color: #434B5C;\n",
              "      box-shadow: 0px 1px 3px 1px rgba(0, 0, 0, 0.15);\n",
              "      filter: drop-shadow(0px 1px 2px rgba(0, 0, 0, 0.3));\n",
              "      fill: #FFFFFF;\n",
              "    }\n",
              "  </style>\n",
              "\n",
              "      <script>\n",
              "        const buttonEl =\n",
              "          document.querySelector('#df-a4b58012-b5e5-4036-91ef-eac87768ed4e button.colab-df-convert');\n",
              "        buttonEl.style.display =\n",
              "          google.colab.kernel.accessAllowed ? 'block' : 'none';\n",
              "\n",
              "        async function convertToInteractive(key) {\n",
              "          const element = document.querySelector('#df-a4b58012-b5e5-4036-91ef-eac87768ed4e');\n",
              "          const dataTable =\n",
              "            await google.colab.kernel.invokeFunction('convertToInteractive',\n",
              "                                                     [key], {});\n",
              "          if (!dataTable) return;\n",
              "\n",
              "          const docLinkHtml = 'Like what you see? Visit the ' +\n",
              "            '<a target=\"_blank\" href=https://colab.research.google.com/notebooks/data_table.ipynb>data table notebook</a>'\n",
              "            + ' to learn more about interactive tables.';\n",
              "          element.innerHTML = '';\n",
              "          dataTable['output_type'] = 'display_data';\n",
              "          await google.colab.output.renderOutput(dataTable, element);\n",
              "          const docLink = document.createElement('div');\n",
              "          docLink.innerHTML = docLinkHtml;\n",
              "          element.appendChild(docLink);\n",
              "        }\n",
              "      </script>\n",
              "    </div>\n",
              "  </div>\n",
              "  "
            ],
            "text/plain": [
              "                 Company  ...                      GICS Sub-Industry\n",
              "0    Activision Blizzard  ...         Interactive Home Entertainment\n",
              "1                  Adobe  ...                   Application Software\n",
              "2                    ADP  ...  Data Processing & Outsourced Services\n",
              "3                 Airbnb  ...     Internet & Direct Marketing Retail\n",
              "4                  Align  ...                   Health Care Supplies\n",
              "..                   ...  ...                                    ...\n",
              "97               Workday  ...                   Application Software\n",
              "98           Xcel Energy  ...                        Multi-Utilities\n",
              "99                Xilinx  ...                         Semiconductors\n",
              "100                 Zoom  ...                   Application Software\n",
              "101              Zscaler  ...                   Application Software\n",
              "\n",
              "[102 rows x 4 columns]"
            ]
          },
          "metadata": {},
          "execution_count": 4
        }
      ]
    },
    {
      "cell_type": "code",
      "source": [
        "n100 = nasdaq_df[3]"
      ],
      "metadata": {
        "id": "q9Me2bUm0PH5"
      },
      "execution_count": 5,
      "outputs": []
    },
    {
      "cell_type": "code",
      "source": [
        "n100"
      ],
      "metadata": {
        "colab": {
          "base_uri": "https://localhost:8080/",
          "height": 655
        },
        "id": "VJOqZcRc0Tsl",
        "outputId": "42e43010-d96e-4226-c938-e93f526acdfb"
      },
      "execution_count": 6,
      "outputs": [
        {
          "output_type": "execute_result",
          "data": {
            "text/html": [
              "\n",
              "  <div id=\"df-08ec56e3-2c67-4145-a557-1473f30444be\">\n",
              "    <div class=\"colab-df-container\">\n",
              "      <div>\n",
              "<style scoped>\n",
              "    .dataframe tbody tr th:only-of-type {\n",
              "        vertical-align: middle;\n",
              "    }\n",
              "\n",
              "    .dataframe tbody tr th {\n",
              "        vertical-align: top;\n",
              "    }\n",
              "\n",
              "    .dataframe thead th {\n",
              "        text-align: right;\n",
              "    }\n",
              "</style>\n",
              "<table border=\"1\" class=\"dataframe\">\n",
              "  <thead>\n",
              "    <tr style=\"text-align: right;\">\n",
              "      <th></th>\n",
              "      <th>Company</th>\n",
              "      <th>Ticker</th>\n",
              "      <th>GICS Sector</th>\n",
              "      <th>GICS Sub-Industry</th>\n",
              "    </tr>\n",
              "  </thead>\n",
              "  <tbody>\n",
              "    <tr>\n",
              "      <th>0</th>\n",
              "      <td>Activision Blizzard</td>\n",
              "      <td>ATVI</td>\n",
              "      <td>Communication Services</td>\n",
              "      <td>Interactive Home Entertainment</td>\n",
              "    </tr>\n",
              "    <tr>\n",
              "      <th>1</th>\n",
              "      <td>Adobe</td>\n",
              "      <td>ADBE</td>\n",
              "      <td>Information Technology</td>\n",
              "      <td>Application Software</td>\n",
              "    </tr>\n",
              "    <tr>\n",
              "      <th>2</th>\n",
              "      <td>ADP</td>\n",
              "      <td>ADP</td>\n",
              "      <td>Information Technology</td>\n",
              "      <td>Data Processing &amp; Outsourced Services</td>\n",
              "    </tr>\n",
              "    <tr>\n",
              "      <th>3</th>\n",
              "      <td>Airbnb</td>\n",
              "      <td>ABNB</td>\n",
              "      <td>Consumer Discretionary</td>\n",
              "      <td>Internet &amp; Direct Marketing Retail</td>\n",
              "    </tr>\n",
              "    <tr>\n",
              "      <th>4</th>\n",
              "      <td>Align</td>\n",
              "      <td>ALGN</td>\n",
              "      <td>Health Care</td>\n",
              "      <td>Health Care Supplies</td>\n",
              "    </tr>\n",
              "    <tr>\n",
              "      <th>...</th>\n",
              "      <td>...</td>\n",
              "      <td>...</td>\n",
              "      <td>...</td>\n",
              "      <td>...</td>\n",
              "    </tr>\n",
              "    <tr>\n",
              "      <th>97</th>\n",
              "      <td>Workday</td>\n",
              "      <td>WDAY</td>\n",
              "      <td>Information Technology</td>\n",
              "      <td>Application Software</td>\n",
              "    </tr>\n",
              "    <tr>\n",
              "      <th>98</th>\n",
              "      <td>Xcel Energy</td>\n",
              "      <td>XEL</td>\n",
              "      <td>Utilities</td>\n",
              "      <td>Multi-Utilities</td>\n",
              "    </tr>\n",
              "    <tr>\n",
              "      <th>99</th>\n",
              "      <td>Xilinx</td>\n",
              "      <td>XLNX</td>\n",
              "      <td>Information Technology</td>\n",
              "      <td>Semiconductors</td>\n",
              "    </tr>\n",
              "    <tr>\n",
              "      <th>100</th>\n",
              "      <td>Zoom</td>\n",
              "      <td>ZM</td>\n",
              "      <td>Information Technology</td>\n",
              "      <td>Application Software</td>\n",
              "    </tr>\n",
              "    <tr>\n",
              "      <th>101</th>\n",
              "      <td>Zscaler</td>\n",
              "      <td>ZS</td>\n",
              "      <td>Information Technology</td>\n",
              "      <td>Application Software</td>\n",
              "    </tr>\n",
              "  </tbody>\n",
              "</table>\n",
              "<p>102 rows × 4 columns</p>\n",
              "</div>\n",
              "      <button class=\"colab-df-convert\" onclick=\"convertToInteractive('df-08ec56e3-2c67-4145-a557-1473f30444be')\"\n",
              "              title=\"Convert this dataframe to an interactive table.\"\n",
              "              style=\"display:none;\">\n",
              "        \n",
              "  <svg xmlns=\"http://www.w3.org/2000/svg\" height=\"24px\"viewBox=\"0 0 24 24\"\n",
              "       width=\"24px\">\n",
              "    <path d=\"M0 0h24v24H0V0z\" fill=\"none\"/>\n",
              "    <path d=\"M18.56 5.44l.94 2.06.94-2.06 2.06-.94-2.06-.94-.94-2.06-.94 2.06-2.06.94zm-11 1L8.5 8.5l.94-2.06 2.06-.94-2.06-.94L8.5 2.5l-.94 2.06-2.06.94zm10 10l.94 2.06.94-2.06 2.06-.94-2.06-.94-.94-2.06-.94 2.06-2.06.94z\"/><path d=\"M17.41 7.96l-1.37-1.37c-.4-.4-.92-.59-1.43-.59-.52 0-1.04.2-1.43.59L10.3 9.45l-7.72 7.72c-.78.78-.78 2.05 0 2.83L4 21.41c.39.39.9.59 1.41.59.51 0 1.02-.2 1.41-.59l7.78-7.78 2.81-2.81c.8-.78.8-2.07 0-2.86zM5.41 20L4 18.59l7.72-7.72 1.47 1.35L5.41 20z\"/>\n",
              "  </svg>\n",
              "      </button>\n",
              "      \n",
              "  <style>\n",
              "    .colab-df-container {\n",
              "      display:flex;\n",
              "      flex-wrap:wrap;\n",
              "      gap: 12px;\n",
              "    }\n",
              "\n",
              "    .colab-df-convert {\n",
              "      background-color: #E8F0FE;\n",
              "      border: none;\n",
              "      border-radius: 50%;\n",
              "      cursor: pointer;\n",
              "      display: none;\n",
              "      fill: #1967D2;\n",
              "      height: 32px;\n",
              "      padding: 0 0 0 0;\n",
              "      width: 32px;\n",
              "    }\n",
              "\n",
              "    .colab-df-convert:hover {\n",
              "      background-color: #E2EBFA;\n",
              "      box-shadow: 0px 1px 2px rgba(60, 64, 67, 0.3), 0px 1px 3px 1px rgba(60, 64, 67, 0.15);\n",
              "      fill: #174EA6;\n",
              "    }\n",
              "\n",
              "    [theme=dark] .colab-df-convert {\n",
              "      background-color: #3B4455;\n",
              "      fill: #D2E3FC;\n",
              "    }\n",
              "\n",
              "    [theme=dark] .colab-df-convert:hover {\n",
              "      background-color: #434B5C;\n",
              "      box-shadow: 0px 1px 3px 1px rgba(0, 0, 0, 0.15);\n",
              "      filter: drop-shadow(0px 1px 2px rgba(0, 0, 0, 0.3));\n",
              "      fill: #FFFFFF;\n",
              "    }\n",
              "  </style>\n",
              "\n",
              "      <script>\n",
              "        const buttonEl =\n",
              "          document.querySelector('#df-08ec56e3-2c67-4145-a557-1473f30444be button.colab-df-convert');\n",
              "        buttonEl.style.display =\n",
              "          google.colab.kernel.accessAllowed ? 'block' : 'none';\n",
              "\n",
              "        async function convertToInteractive(key) {\n",
              "          const element = document.querySelector('#df-08ec56e3-2c67-4145-a557-1473f30444be');\n",
              "          const dataTable =\n",
              "            await google.colab.kernel.invokeFunction('convertToInteractive',\n",
              "                                                     [key], {});\n",
              "          if (!dataTable) return;\n",
              "\n",
              "          const docLinkHtml = 'Like what you see? Visit the ' +\n",
              "            '<a target=\"_blank\" href=https://colab.research.google.com/notebooks/data_table.ipynb>data table notebook</a>'\n",
              "            + ' to learn more about interactive tables.';\n",
              "          element.innerHTML = '';\n",
              "          dataTable['output_type'] = 'display_data';\n",
              "          await google.colab.output.renderOutput(dataTable, element);\n",
              "          const docLink = document.createElement('div');\n",
              "          docLink.innerHTML = docLinkHtml;\n",
              "          element.appendChild(docLink);\n",
              "        }\n",
              "      </script>\n",
              "    </div>\n",
              "  </div>\n",
              "  "
            ],
            "text/plain": [
              "                 Company  ...                      GICS Sub-Industry\n",
              "0    Activision Blizzard  ...         Interactive Home Entertainment\n",
              "1                  Adobe  ...                   Application Software\n",
              "2                    ADP  ...  Data Processing & Outsourced Services\n",
              "3                 Airbnb  ...     Internet & Direct Marketing Retail\n",
              "4                  Align  ...                   Health Care Supplies\n",
              "..                   ...  ...                                    ...\n",
              "97               Workday  ...                   Application Software\n",
              "98           Xcel Energy  ...                        Multi-Utilities\n",
              "99                Xilinx  ...                         Semiconductors\n",
              "100                 Zoom  ...                   Application Software\n",
              "101              Zscaler  ...                   Application Software\n",
              "\n",
              "[102 rows x 4 columns]"
            ]
          },
          "metadata": {},
          "execution_count": 6
        }
      ]
    },
    {
      "cell_type": "code",
      "source": [
        "ticker_sec_gics = pd.DataFrame()\n",
        "ticker_sec_gics = n100[['Ticker','Company','GICS Sector', 'GICS Sub-Industry']]"
      ],
      "metadata": {
        "id": "tGFHyncU0ghd"
      },
      "execution_count": 7,
      "outputs": []
    },
    {
      "cell_type": "code",
      "source": [
        "ticker_sec_gics.info()"
      ],
      "metadata": {
        "colab": {
          "base_uri": "https://localhost:8080/"
        },
        "id": "bIPivbuz5umV",
        "outputId": "6ed55454-a7a3-46e4-f657-df90a3bc69cf"
      },
      "execution_count": 8,
      "outputs": [
        {
          "output_type": "stream",
          "name": "stdout",
          "text": [
            "<class 'pandas.core.frame.DataFrame'>\n",
            "RangeIndex: 102 entries, 0 to 101\n",
            "Data columns (total 4 columns):\n",
            " #   Column             Non-Null Count  Dtype \n",
            "---  ------             --------------  ----- \n",
            " 0   Ticker             102 non-null    object\n",
            " 1   Company            102 non-null    object\n",
            " 2   GICS Sector        102 non-null    object\n",
            " 3   GICS Sub-Industry  102 non-null    object\n",
            "dtypes: object(4)\n",
            "memory usage: 3.3+ KB\n"
          ]
        }
      ]
    },
    {
      "cell_type": "code",
      "source": [
        "ticker = ticker_sec_gics['Ticker'].to_list()"
      ],
      "metadata": {
        "id": "uS0pgaWm3mgb"
      },
      "execution_count": 9,
      "outputs": []
    },
    {
      "cell_type": "code",
      "source": [
        "start_date = '2020-03-31'\n",
        "end_date = '2021-04-01'"
      ],
      "metadata": {
        "id": "CvfYjiVe4iKa"
      },
      "execution_count": 10,
      "outputs": []
    },
    {
      "cell_type": "code",
      "source": [
        "main_df = pd.DataFrame()"
      ],
      "metadata": {
        "id": "Ej983vF2ZMwe"
      },
      "execution_count": 11,
      "outputs": []
    },
    {
      "cell_type": "code",
      "source": [
        "ticker = ['FB', 'AAPL', 'NFLX', 'GOOGL', 'AMZN']"
      ],
      "metadata": {
        "id": "G8GHVu5kYqcR"
      },
      "execution_count": 16,
      "outputs": []
    },
    {
      "cell_type": "code",
      "source": [
        "for sym in ticker:\n",
        "\n",
        "  temp_df = yf.download('{}'.format(sym), start=start_date, end=end_date)\n",
        "  temp_df = temp_df.drop(columns=['Adj Close'], axis=1)\n",
        "\n",
        "  temp_industry = ticker_sec_gics[ticker_sec_gics['Ticker'] == '{}'.format(sym)]['GICS Sector'].to_list()[0]\n",
        "  temp_subindustry = ticker_sec_gics[ticker_sec_gics['Ticker'] == '{}'.format(sym)]['GICS Sub-Industry'].to_list()[0]\n",
        "\n",
        "  temp_df.insert(0, 'Ticker', '{}'.format(sym))\n",
        "  temp_df.insert(1, 'GICS Sector', '{}'.format(temp_industry))\n",
        "  temp_df.insert(2, 'GICS Sub-Industry', '{}'.format(temp_subindustry))\n",
        "\n",
        "  main_df = pd.concat([main_df, temp_df])"
      ],
      "metadata": {
        "colab": {
          "base_uri": "https://localhost:8080/"
        },
        "id": "ETC3DLQEUQkh",
        "outputId": "5beca9a0-b9a2-41de-f0cd-cae01fb3cc98"
      },
      "execution_count": 17,
      "outputs": [
        {
          "output_type": "stream",
          "name": "stdout",
          "text": [
            "[*********************100%***********************]  1 of 1 completed\n",
            "[*********************100%***********************]  1 of 1 completed\n",
            "[*********************100%***********************]  1 of 1 completed\n",
            "[*********************100%***********************]  1 of 1 completed\n",
            "[*********************100%***********************]  1 of 1 completed\n"
          ]
        }
      ]
    },
    {
      "cell_type": "code",
      "source": [
        "main_df"
      ],
      "metadata": {
        "colab": {
          "base_uri": "https://localhost:8080/",
          "height": 455
        },
        "id": "qRtkbq4eXhrv",
        "outputId": "b9c37369-81df-4975-f195-9a2a2a45eefb"
      },
      "execution_count": 18,
      "outputs": [
        {
          "output_type": "execute_result",
          "data": {
            "text/html": [
              "\n",
              "  <div id=\"df-40d4eb33-05da-42ee-92a8-77d005f16a54\">\n",
              "    <div class=\"colab-df-container\">\n",
              "      <div>\n",
              "<style scoped>\n",
              "    .dataframe tbody tr th:only-of-type {\n",
              "        vertical-align: middle;\n",
              "    }\n",
              "\n",
              "    .dataframe tbody tr th {\n",
              "        vertical-align: top;\n",
              "    }\n",
              "\n",
              "    .dataframe thead th {\n",
              "        text-align: right;\n",
              "    }\n",
              "</style>\n",
              "<table border=\"1\" class=\"dataframe\">\n",
              "  <thead>\n",
              "    <tr style=\"text-align: right;\">\n",
              "      <th></th>\n",
              "      <th>Ticker</th>\n",
              "      <th>GICS Sector</th>\n",
              "      <th>GICS Sub-Industry</th>\n",
              "      <th>Open</th>\n",
              "      <th>High</th>\n",
              "      <th>Low</th>\n",
              "      <th>Close</th>\n",
              "      <th>Volume</th>\n",
              "    </tr>\n",
              "    <tr>\n",
              "      <th>Date</th>\n",
              "      <th></th>\n",
              "      <th></th>\n",
              "      <th></th>\n",
              "      <th></th>\n",
              "      <th></th>\n",
              "      <th></th>\n",
              "      <th></th>\n",
              "      <th></th>\n",
              "    </tr>\n",
              "  </thead>\n",
              "  <tbody>\n",
              "    <tr>\n",
              "      <th>2020-03-31</th>\n",
              "      <td>FB</td>\n",
              "      <td>Communication Services</td>\n",
              "      <td>Interactive Media &amp; Services</td>\n",
              "      <td>165.479996</td>\n",
              "      <td>170.929993</td>\n",
              "      <td>164.199997</td>\n",
              "      <td>166.800003</td>\n",
              "      <td>23676300</td>\n",
              "    </tr>\n",
              "    <tr>\n",
              "      <th>2020-04-01</th>\n",
              "      <td>FB</td>\n",
              "      <td>Communication Services</td>\n",
              "      <td>Interactive Media &amp; Services</td>\n",
              "      <td>161.619995</td>\n",
              "      <td>164.149994</td>\n",
              "      <td>158.039993</td>\n",
              "      <td>159.600006</td>\n",
              "      <td>19507600</td>\n",
              "    </tr>\n",
              "    <tr>\n",
              "      <th>2020-04-02</th>\n",
              "      <td>FB</td>\n",
              "      <td>Communication Services</td>\n",
              "      <td>Interactive Media &amp; Services</td>\n",
              "      <td>159.100006</td>\n",
              "      <td>161.350006</td>\n",
              "      <td>155.919998</td>\n",
              "      <td>158.190002</td>\n",
              "      <td>20886300</td>\n",
              "    </tr>\n",
              "    <tr>\n",
              "      <th>2020-04-03</th>\n",
              "      <td>FB</td>\n",
              "      <td>Communication Services</td>\n",
              "      <td>Interactive Media &amp; Services</td>\n",
              "      <td>157.149994</td>\n",
              "      <td>157.910004</td>\n",
              "      <td>150.830002</td>\n",
              "      <td>154.179993</td>\n",
              "      <td>25983300</td>\n",
              "    </tr>\n",
              "    <tr>\n",
              "      <th>2020-04-06</th>\n",
              "      <td>FB</td>\n",
              "      <td>Communication Services</td>\n",
              "      <td>Interactive Media &amp; Services</td>\n",
              "      <td>160.149994</td>\n",
              "      <td>166.199997</td>\n",
              "      <td>158.509995</td>\n",
              "      <td>165.550003</td>\n",
              "      <td>28453600</td>\n",
              "    </tr>\n",
              "    <tr>\n",
              "      <th>...</th>\n",
              "      <td>...</td>\n",
              "      <td>...</td>\n",
              "      <td>...</td>\n",
              "      <td>...</td>\n",
              "      <td>...</td>\n",
              "      <td>...</td>\n",
              "      <td>...</td>\n",
              "      <td>...</td>\n",
              "    </tr>\n",
              "    <tr>\n",
              "      <th>2021-03-25</th>\n",
              "      <td>AMZN</td>\n",
              "      <td>Consumer Discretionary</td>\n",
              "      <td>Internet &amp; Direct Marketing Retail</td>\n",
              "      <td>3072.989990</td>\n",
              "      <td>3109.780029</td>\n",
              "      <td>3037.139893</td>\n",
              "      <td>3046.260010</td>\n",
              "      <td>3563500</td>\n",
              "    </tr>\n",
              "    <tr>\n",
              "      <th>2021-03-26</th>\n",
              "      <td>AMZN</td>\n",
              "      <td>Consumer Discretionary</td>\n",
              "      <td>Internet &amp; Direct Marketing Retail</td>\n",
              "      <td>3044.060059</td>\n",
              "      <td>3056.659912</td>\n",
              "      <td>2996.000000</td>\n",
              "      <td>3052.030029</td>\n",
              "      <td>3312900</td>\n",
              "    </tr>\n",
              "    <tr>\n",
              "      <th>2021-03-29</th>\n",
              "      <td>AMZN</td>\n",
              "      <td>Consumer Discretionary</td>\n",
              "      <td>Internet &amp; Direct Marketing Retail</td>\n",
              "      <td>3055.439941</td>\n",
              "      <td>3091.250000</td>\n",
              "      <td>3028.449951</td>\n",
              "      <td>3075.729980</td>\n",
              "      <td>2746000</td>\n",
              "    </tr>\n",
              "    <tr>\n",
              "      <th>2021-03-30</th>\n",
              "      <td>AMZN</td>\n",
              "      <td>Consumer Discretionary</td>\n",
              "      <td>Internet &amp; Direct Marketing Retail</td>\n",
              "      <td>3070.010010</td>\n",
              "      <td>3073.000000</td>\n",
              "      <td>3034.000000</td>\n",
              "      <td>3055.290039</td>\n",
              "      <td>2337600</td>\n",
              "    </tr>\n",
              "    <tr>\n",
              "      <th>2021-03-31</th>\n",
              "      <td>AMZN</td>\n",
              "      <td>Consumer Discretionary</td>\n",
              "      <td>Internet &amp; Direct Marketing Retail</td>\n",
              "      <td>3064.060059</td>\n",
              "      <td>3119.330078</td>\n",
              "      <td>3062.500000</td>\n",
              "      <td>3094.080078</td>\n",
              "      <td>3093900</td>\n",
              "    </tr>\n",
              "  </tbody>\n",
              "</table>\n",
              "<p>1265 rows × 8 columns</p>\n",
              "</div>\n",
              "      <button class=\"colab-df-convert\" onclick=\"convertToInteractive('df-40d4eb33-05da-42ee-92a8-77d005f16a54')\"\n",
              "              title=\"Convert this dataframe to an interactive table.\"\n",
              "              style=\"display:none;\">\n",
              "        \n",
              "  <svg xmlns=\"http://www.w3.org/2000/svg\" height=\"24px\"viewBox=\"0 0 24 24\"\n",
              "       width=\"24px\">\n",
              "    <path d=\"M0 0h24v24H0V0z\" fill=\"none\"/>\n",
              "    <path d=\"M18.56 5.44l.94 2.06.94-2.06 2.06-.94-2.06-.94-.94-2.06-.94 2.06-2.06.94zm-11 1L8.5 8.5l.94-2.06 2.06-.94-2.06-.94L8.5 2.5l-.94 2.06-2.06.94zm10 10l.94 2.06.94-2.06 2.06-.94-2.06-.94-.94-2.06-.94 2.06-2.06.94z\"/><path d=\"M17.41 7.96l-1.37-1.37c-.4-.4-.92-.59-1.43-.59-.52 0-1.04.2-1.43.59L10.3 9.45l-7.72 7.72c-.78.78-.78 2.05 0 2.83L4 21.41c.39.39.9.59 1.41.59.51 0 1.02-.2 1.41-.59l7.78-7.78 2.81-2.81c.8-.78.8-2.07 0-2.86zM5.41 20L4 18.59l7.72-7.72 1.47 1.35L5.41 20z\"/>\n",
              "  </svg>\n",
              "      </button>\n",
              "      \n",
              "  <style>\n",
              "    .colab-df-container {\n",
              "      display:flex;\n",
              "      flex-wrap:wrap;\n",
              "      gap: 12px;\n",
              "    }\n",
              "\n",
              "    .colab-df-convert {\n",
              "      background-color: #E8F0FE;\n",
              "      border: none;\n",
              "      border-radius: 50%;\n",
              "      cursor: pointer;\n",
              "      display: none;\n",
              "      fill: #1967D2;\n",
              "      height: 32px;\n",
              "      padding: 0 0 0 0;\n",
              "      width: 32px;\n",
              "    }\n",
              "\n",
              "    .colab-df-convert:hover {\n",
              "      background-color: #E2EBFA;\n",
              "      box-shadow: 0px 1px 2px rgba(60, 64, 67, 0.3), 0px 1px 3px 1px rgba(60, 64, 67, 0.15);\n",
              "      fill: #174EA6;\n",
              "    }\n",
              "\n",
              "    [theme=dark] .colab-df-convert {\n",
              "      background-color: #3B4455;\n",
              "      fill: #D2E3FC;\n",
              "    }\n",
              "\n",
              "    [theme=dark] .colab-df-convert:hover {\n",
              "      background-color: #434B5C;\n",
              "      box-shadow: 0px 1px 3px 1px rgba(0, 0, 0, 0.15);\n",
              "      filter: drop-shadow(0px 1px 2px rgba(0, 0, 0, 0.3));\n",
              "      fill: #FFFFFF;\n",
              "    }\n",
              "  </style>\n",
              "\n",
              "      <script>\n",
              "        const buttonEl =\n",
              "          document.querySelector('#df-40d4eb33-05da-42ee-92a8-77d005f16a54 button.colab-df-convert');\n",
              "        buttonEl.style.display =\n",
              "          google.colab.kernel.accessAllowed ? 'block' : 'none';\n",
              "\n",
              "        async function convertToInteractive(key) {\n",
              "          const element = document.querySelector('#df-40d4eb33-05da-42ee-92a8-77d005f16a54');\n",
              "          const dataTable =\n",
              "            await google.colab.kernel.invokeFunction('convertToInteractive',\n",
              "                                                     [key], {});\n",
              "          if (!dataTable) return;\n",
              "\n",
              "          const docLinkHtml = 'Like what you see? Visit the ' +\n",
              "            '<a target=\"_blank\" href=https://colab.research.google.com/notebooks/data_table.ipynb>data table notebook</a>'\n",
              "            + ' to learn more about interactive tables.';\n",
              "          element.innerHTML = '';\n",
              "          dataTable['output_type'] = 'display_data';\n",
              "          await google.colab.output.renderOutput(dataTable, element);\n",
              "          const docLink = document.createElement('div');\n",
              "          docLink.innerHTML = docLinkHtml;\n",
              "          element.appendChild(docLink);\n",
              "        }\n",
              "      </script>\n",
              "    </div>\n",
              "  </div>\n",
              "  "
            ],
            "text/plain": [
              "           Ticker             GICS Sector  ...        Close    Volume\n",
              "Date                                       ...                       \n",
              "2020-03-31     FB  Communication Services  ...   166.800003  23676300\n",
              "2020-04-01     FB  Communication Services  ...   159.600006  19507600\n",
              "2020-04-02     FB  Communication Services  ...   158.190002  20886300\n",
              "2020-04-03     FB  Communication Services  ...   154.179993  25983300\n",
              "2020-04-06     FB  Communication Services  ...   165.550003  28453600\n",
              "...           ...                     ...  ...          ...       ...\n",
              "2021-03-25   AMZN  Consumer Discretionary  ...  3046.260010   3563500\n",
              "2021-03-26   AMZN  Consumer Discretionary  ...  3052.030029   3312900\n",
              "2021-03-29   AMZN  Consumer Discretionary  ...  3075.729980   2746000\n",
              "2021-03-30   AMZN  Consumer Discretionary  ...  3055.290039   2337600\n",
              "2021-03-31   AMZN  Consumer Discretionary  ...  3094.080078   3093900\n",
              "\n",
              "[1265 rows x 8 columns]"
            ]
          },
          "metadata": {},
          "execution_count": 18
        }
      ]
    },
    {
      "cell_type": "markdown",
      "source": [
        "## Data Preparation"
      ],
      "metadata": {
        "id": "5EOEf9zpPTl1"
      }
    },
    {
      "cell_type": "markdown",
      "source": [
        "Code needs to::\n",
        "\n",
        "iterate rows:\n",
        "\n",
        "  -do basic calculation to determine presence of indicator\n",
        "\n",
        "  -if indicator found, move on\n",
        "  \n",
        "  -save indicator in another dataframe with:\n",
        "\n",
        "    -ticker, gics sec, gics sub-industry, indicator type, close, volume, uptrend/downtrend/neither, close value in 1d, 3d, 7d, 10d."
      ],
      "metadata": {
        "id": "RsndhAV0mkWR"
      }
    },
    {
      "cell_type": "code",
      "source": [
        "class Indicator:\n",
        "\n",
        "  indicator_data = []\n",
        "  \n",
        "  @staticmethod\n",
        "  def indicator_detect():\n",
        "    pass"
      ],
      "metadata": {
        "id": "NTje4bYLoXpg"
      },
      "execution_count": 73,
      "outputs": []
    },
    {
      "cell_type": "code",
      "source": [
        "i = 0\n",
        "for index, row in main_df.iterrows():\n",
        "  o, h, l, c = row[3:-1]\n",
        "  i +=1 \n",
        "  if i == 1:\n",
        "    break"
      ],
      "metadata": {
        "id": "3-9yCsZkZs-f"
      },
      "execution_count": 41,
      "outputs": []
    },
    {
      "cell_type": "code",
      "source": [
        "class Downtrend:\n",
        "  pass"
      ],
      "metadata": {
        "id": "4x9U2byq38RS"
      },
      "execution_count": null,
      "outputs": []
    },
    {
      "cell_type": "code",
      "source": [
        "class Uptrend:\n",
        "  pass"
      ],
      "metadata": {
        "id": "wuFWjv7_38AV"
      },
      "execution_count": null,
      "outputs": []
    },
    {
      "cell_type": "markdown",
      "source": [
        "hamer criteria: \n",
        "\n",
        "\n",
        "*   high ~ open / close value\n",
        "*   low > 2x the lower bound\n",
        "\n"
      ],
      "metadata": {
        "id": "2nkc1bU5lwgC"
      }
    },
    {
      "cell_type": "code",
      "source": [
        "a = [10, 20]\n",
        "b = 20\n",
        "\n",
        "wick_check = Hammer.upper_wick_check(a, b)\n",
        "wick_check"
      ],
      "metadata": {
        "colab": {
          "base_uri": "https://localhost:8080/"
        },
        "id": "LLRreZJMmKek",
        "outputId": "b6810680-d300-436c-eb9d-d94d335e434c"
      },
      "execution_count": 71,
      "outputs": [
        {
          "output_type": "execute_result",
          "data": {
            "text/plain": [
              "True"
            ]
          },
          "metadata": {},
          "execution_count": 71
        }
      ]
    },
    {
      "cell_type": "code",
      "source": [
        "class Hammer:\n",
        "  \"\"\"Identifies and creates a Hammer Object\"\"\"\n",
        "\n",
        "  def __init__(self, open, high, low, close, volume):\n",
        "    self.open = open\n",
        "    self.close = close\n",
        "    self.high = high\n",
        "    self.low = low\n",
        "    self.volume = volume\n",
        "\n",
        "  def hammer_\n",
        "\n",
        "  def hammer_detect(open, high, low, close):\n",
        "\n",
        "    upper_bound, lower_bound = max(open, close), min(open, close)\n",
        "    upper_range = [upper_bound * 0.999, upper_bound * 1.001]\n",
        "    day_diff = upper_bound - lower_bound\n",
        "\n",
        "\n",
        "    check_one = Hammer.upper_wick_check()\n",
        "    check_two = Hammer.lower_wick_check()\n",
        "    check_three = \n",
        "\n",
        "    if check_one == True and check_two == True:\n",
        "      return True\n",
        "  \n",
        "  def upper_wick_check(upper_range: list, high: float):\n",
        "    if high >= upper_range[0] and high <= upper_range[1]:\n",
        "      return True\n",
        "\n",
        "  def lower_wick_check(day_diff, lower_bound, low):\n",
        "    if (lower_bound - low) >= (2 * day_diff):\n",
        "      return True\n",
        "\n",
        "    "
      ],
      "metadata": {
        "id": "HOsnLsXygVa5"
      },
      "execution_count": 68,
      "outputs": []
    },
    {
      "cell_type": "code",
      "source": [
        "class ShootingStar:\n",
        "  \"\"\"Identifies and creates a ShootingStar Object\"\"\""
      ],
      "metadata": {
        "id": "qSALU31OgkNZ"
      },
      "execution_count": null,
      "outputs": []
    },
    {
      "cell_type": "code",
      "source": [
        "# class Longlegdoji:\n",
        "#   pass"
      ],
      "metadata": {
        "id": "bsezSrV-gmf4"
      },
      "execution_count": null,
      "outputs": []
    },
    {
      "cell_type": "code",
      "source": [
        "# class Gravestone:\n",
        "#   # pass"
      ],
      "metadata": {
        "id": "2HNUzVBlgpBw"
      },
      "execution_count": null,
      "outputs": []
    },
    {
      "cell_type": "code",
      "source": [
        "# class Dragonfly:\n",
        "#   pass"
      ],
      "metadata": {
        "id": "p0AZGq9GgrCU"
      },
      "execution_count": null,
      "outputs": []
    }
  ]
}